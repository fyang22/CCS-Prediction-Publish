{
 "cells": [
  {
   "cell_type": "code",
   "execution_count": 1,
   "id": "bcbb5e09",
   "metadata": {},
   "outputs": [],
   "source": [
    "import numpy as np\n",
    "import pandas as pd"
   ]
  },
  {
   "cell_type": "markdown",
   "id": "90e97f9d",
   "metadata": {},
   "source": [
    "# Load and clean up data"
   ]
  },
  {
   "cell_type": "code",
   "execution_count": 2,
   "id": "d0966164",
   "metadata": {},
   "outputs": [],
   "source": [
    "df_all = pd.read_csv(r'C:\\Users\\fyang\\CCS-Prediction-Publish\\CCS_prediction\\PredictionCCS.csv')"
   ]
  },
  {
   "cell_type": "code",
   "execution_count": 3,
   "id": "df010d24",
   "metadata": {},
   "outputs": [],
   "source": [
    "df_all['SMILES'].isnull().values.any()\n",
    "df_all = df_all.dropna(subset=['SMILES', 'CCS'])"
   ]
  },
  {
   "cell_type": "code",
   "execution_count": 4,
   "id": "5f015623",
   "metadata": {},
   "outputs": [],
   "source": [
    "from rdkit import Chem\n",
    "from rdkit.Chem import PandasTools\n",
    "\n",
    "# get fingerprints\n",
    "def get_FPs(df):\n",
    "    \n",
    "    # from SMILES to mol\n",
    "    PandasTools.AddMoleculeColumnToFrame(df,\n",
    "                                         'SMILES','Molecules',\n",
    "                                         includeFingerprints = True)\n",
    "    df.dropna(subset = ['Molecules'],inplace = True)\n",
    "    df = df.reset_index()\n",
    "    # from mol to FPs\n",
    "    df['FPs'] =[Chem.RDKFingerprint(mol, fpSize = 1024) for mol in df.Molecules]\n",
    "    \n",
    "    return df"
   ]
  },
  {
   "cell_type": "code",
   "execution_count": 5,
   "id": "c93158e3",
   "metadata": {},
   "outputs": [],
   "source": [
    "df_all= get_FPs(df_all)"
   ]
  },
  {
   "cell_type": "code",
   "execution_count": 6,
   "id": "7cc233c6",
   "metadata": {},
   "outputs": [],
   "source": [
    "FPs = df_all['FPs'].tolist()"
   ]
  },
  {
   "cell_type": "code",
   "execution_count": 7,
   "id": "0db372c6",
   "metadata": {},
   "outputs": [],
   "source": [
    "# Clean up data\n",
    "df_all.drop_duplicates(subset=['SMILES','adduct','CCS'], inplace = True)"
   ]
  },
  {
   "cell_type": "code",
   "execution_count": 48,
   "id": "867f25ff",
   "metadata": {},
   "outputs": [
    {
     "data": {
      "text/plain": [
       "13324"
      ]
     },
     "execution_count": 48,
     "metadata": {},
     "output_type": "execute_result"
    }
   ],
   "source": [
    "df_all.shape[0]"
   ]
  },
  {
   "cell_type": "code",
   "execution_count": 55,
   "id": "a5024150",
   "metadata": {},
   "outputs": [
    {
     "data": {
      "text/plain": [
       "13324"
      ]
     },
     "execution_count": 55,
     "metadata": {},
     "output_type": "execute_result"
    }
   ],
   "source": [
    "subdf_all = df_all.drop_duplicates(subset=['FPs','CCS'])\n",
    "subdf_all.shape[0]"
   ]
  },
  {
   "cell_type": "code",
   "execution_count": 8,
   "id": "c31246a4",
   "metadata": {
    "collapsed": true
   },
   "outputs": [
    {
     "data": {
      "text/html": [
       "<div>\n",
       "<style scoped>\n",
       "    .dataframe tbody tr th:only-of-type {\n",
       "        vertical-align: middle;\n",
       "    }\n",
       "\n",
       "    .dataframe tbody tr th {\n",
       "        vertical-align: top;\n",
       "    }\n",
       "\n",
       "    .dataframe thead th {\n",
       "        text-align: right;\n",
       "    }\n",
       "</style>\n",
       "<table border=\"1\" class=\"dataframe\">\n",
       "  <thead>\n",
       "    <tr style=\"text-align: right;\">\n",
       "      <th></th>\n",
       "      <th>index</th>\n",
       "      <th>CID</th>\n",
       "      <th>SMILES</th>\n",
       "      <th>adduct</th>\n",
       "      <th>CCS</th>\n",
       "      <th>Super.Class</th>\n",
       "      <th>Source</th>\n",
       "      <th>Molecules</th>\n",
       "      <th>FPs</th>\n",
       "    </tr>\n",
       "  </thead>\n",
       "  <tbody>\n",
       "    <tr>\n",
       "      <th>0</th>\n",
       "      <td>0</td>\n",
       "      <td>14410</td>\n",
       "      <td>C1(=C(C(=C(C(=C1Br)Br)Br)Br)Br)OC2=C(C(=C(C(=C...</td>\n",
       "      <td>[M+H]+</td>\n",
       "      <td>205.23</td>\n",
       "      <td>Benzenoids</td>\n",
       "      <td>1-s2.0-S0003267018302824-mmc2.csv</td>\n",
       "      <td><img data-content=\"rdkit/molecule\" src=\"data:image/png;base64,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\" alt=\"Mol\"/></td>\n",
       "      <td>[0, 0, 1, 0, 0, 0, 0, 0, 0, 0, 0, 0, 0, 1, 0, ...</td>\n",
       "    </tr>\n",
       "    <tr>\n",
       "      <th>1</th>\n",
       "      <td>1</td>\n",
       "      <td>16318</td>\n",
       "      <td>C1(=C(C(=C(C(=C1Cl)Cl)Cl)Cl)Cl)C2=C(C(=C(C(=C2...</td>\n",
       "      <td>[M+H]+</td>\n",
       "      <td>185.88</td>\n",
       "      <td>Benzenoids</td>\n",
       "      <td>1-s2.0-S0003267018302824-mmc2.csv</td>\n",
       "      <td><img data-content=\"rdkit/molecule\" src=\"data:image/png;base64,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\" alt=\"Mol\"/></td>\n",
       "      <td>[1, 1, 1, 1, 0, 0, 0, 0, 1, 0, 0, 0, 0, 0, 0, ...</td>\n",
       "    </tr>\n",
       "    <tr>\n",
       "      <th>2</th>\n",
       "      <td>2</td>\n",
       "      <td>45472</td>\n",
       "      <td>C1=C(C(=C(C(=C1Br)Br)Br)Br)OC2=C(C(=C(C(=C2Br)...</td>\n",
       "      <td>[M+H]+</td>\n",
       "      <td>202.77</td>\n",
       "      <td>Benzenoids</td>\n",
       "      <td>1-s2.0-S0003267018302824-mmc2.csv</td>\n",
       "      <td><img data-content=\"rdkit/molecule\" src=\"data:image/png;base64,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\" alt=\"Mol\"/></td>\n",
       "      <td>[0, 0, 1, 0, 0, 0, 0, 0, 0, 0, 0, 0, 0, 1, 0, ...</td>\n",
       "    </tr>\n",
       "    <tr>\n",
       "      <th>3</th>\n",
       "      <td>3</td>\n",
       "      <td>40484</td>\n",
       "      <td>C1=C(C(=C(C(=C1Cl)Cl)C2=C(C(=C(C(=C2Cl)Cl)Cl)C...</td>\n",
       "      <td>[M+H]+</td>\n",
       "      <td>182.07</td>\n",
       "      <td>Benzenoids</td>\n",
       "      <td>1-s2.0-S0003267018302824-mmc2.csv</td>\n",
       "      <td><img data-content=\"rdkit/molecule\" src=\"data:image/png;base64,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\" alt=\"Mol\"/></td>\n",
       "      <td>[1, 1, 1, 1, 0, 0, 0, 0, 1, 0, 0, 0, 0, 0, 0, ...</td>\n",
       "    </tr>\n",
       "    <tr>\n",
       "      <th>4</th>\n",
       "      <td>4</td>\n",
       "      <td>16495</td>\n",
       "      <td>C1=C(C(=C(C(=C1Cl)Cl)C2=C(C(=CC(=C2Cl)Cl)Cl)Cl...</td>\n",
       "      <td>[M+H]+</td>\n",
       "      <td>176.90</td>\n",
       "      <td>Benzenoids</td>\n",
       "      <td>1-s2.0-S0003267018302824-mmc2.csv</td>\n",
       "      <td><img data-content=\"rdkit/molecule\" src=\"data:image/png;base64,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\" alt=\"Mol\"/></td>\n",
       "      <td>[1, 1, 1, 1, 0, 0, 0, 0, 1, 0, 0, 0, 0, 0, 0, ...</td>\n",
       "    </tr>\n",
       "  </tbody>\n",
       "</table>\n",
       "</div>"
      ],
      "text/plain": [
       "   index    CID                                             SMILES  adduct  \\\n",
       "0      0  14410  C1(=C(C(=C(C(=C1Br)Br)Br)Br)Br)OC2=C(C(=C(C(=C...  [M+H]+   \n",
       "1      1  16318  C1(=C(C(=C(C(=C1Cl)Cl)Cl)Cl)Cl)C2=C(C(=C(C(=C2...  [M+H]+   \n",
       "2      2  45472  C1=C(C(=C(C(=C1Br)Br)Br)Br)OC2=C(C(=C(C(=C2Br)...  [M+H]+   \n",
       "3      3  40484  C1=C(C(=C(C(=C1Cl)Cl)C2=C(C(=C(C(=C2Cl)Cl)Cl)C...  [M+H]+   \n",
       "4      4  16495  C1=C(C(=C(C(=C1Cl)Cl)C2=C(C(=CC(=C2Cl)Cl)Cl)Cl...  [M+H]+   \n",
       "\n",
       "      CCS Super.Class                             Source  \\\n",
       "0  205.23  Benzenoids  1-s2.0-S0003267018302824-mmc2.csv   \n",
       "1  185.88  Benzenoids  1-s2.0-S0003267018302824-mmc2.csv   \n",
       "2  202.77  Benzenoids  1-s2.0-S0003267018302824-mmc2.csv   \n",
       "3  182.07  Benzenoids  1-s2.0-S0003267018302824-mmc2.csv   \n",
       "4  176.90  Benzenoids  1-s2.0-S0003267018302824-mmc2.csv   \n",
       "\n",
       "                                           Molecules  \\\n",
       "0  <img data-content=\"rdkit/molecule\" src=\"data:i...   \n",
       "1  <img data-content=\"rdkit/molecule\" src=\"data:i...   \n",
       "2  <img data-content=\"rdkit/molecule\" src=\"data:i...   \n",
       "3  <img data-content=\"rdkit/molecule\" src=\"data:i...   \n",
       "4  <img data-content=\"rdkit/molecule\" src=\"data:i...   \n",
       "\n",
       "                                                 FPs  \n",
       "0  [0, 0, 1, 0, 0, 0, 0, 0, 0, 0, 0, 0, 0, 1, 0, ...  \n",
       "1  [1, 1, 1, 1, 0, 0, 0, 0, 1, 0, 0, 0, 0, 0, 0, ...  \n",
       "2  [0, 0, 1, 0, 0, 0, 0, 0, 0, 0, 0, 0, 0, 1, 0, ...  \n",
       "3  [1, 1, 1, 1, 0, 0, 0, 0, 1, 0, 0, 0, 0, 0, 0, ...  \n",
       "4  [1, 1, 1, 1, 0, 0, 0, 0, 1, 0, 0, 0, 0, 0, 0, ...  "
      ]
     },
     "execution_count": 8,
     "metadata": {},
     "output_type": "execute_result"
    }
   ],
   "source": [
    "df_all.head(5)"
   ]
  },
  {
   "cell_type": "markdown",
   "id": "ecb69185",
   "metadata": {},
   "source": [
    "# Tuning"
   ]
  },
  {
   "cell_type": "code",
   "execution_count": 13,
   "id": "d14472a0",
   "metadata": {},
   "outputs": [
    {
     "name": "stdout",
     "output_type": "stream",
     "text": [
      "X_Re_train: (10659, 1024)\n",
      "y_Re_train: (10659,)\n",
      "X_Re_test: (2665, 1024)\n",
      "y_Re_test: (2665,)\n"
     ]
    }
   ],
   "source": [
    "# Random Forest Regression tuning\n",
    "# Approach 1 CCS prediction without classification\n",
    "\n",
    "from sklearn.model_selection import train_test_split\n",
    "\n",
    "X_all = df_all['FPs'].tolist()\n",
    "y_all = df_all['CCS'].values\n",
    "\n",
    "X_all_train, X_all_test, y_all_train, y_all_test = train_test_split(X_all, y_all, \n",
    "                                                                train_size = 0.8, \n",
    "                                                                test_size=0.2, \n",
    "                                                                random_state=101,\n",
    "                                                                )\n",
    "\n",
    "print('X_Re_train: {}'.format(np.shape(X_all_train)))\n",
    "print('y_Re_train: {}'.format(np.shape(y_all_train)))\n",
    "print('X_Re_test: {}'.format(np.shape(X_all_test)))\n",
    "print('y_Re_test: {}'.format(np.shape(y_all_test)))"
   ]
  },
  {
   "cell_type": "code",
   "execution_count": 14,
   "id": "6f3863c8",
   "metadata": {},
   "outputs": [],
   "source": [
    "from sklearn.ensemble import RandomForestRegressor\n",
    "\n",
    "#Tuning\n",
    "\n",
    "# Number of trees in random forest\n",
    "n_estimators = [int(x) for x in np.linspace(start = 100, stop = 500, num = 10)]\n",
    "# Quality of a split\n",
    "criterion = ['squared_error']\n",
    "# Number of features to consider at every split\n",
    "max_features = ['auto']\n",
    "# Maximum number of levels in tree\n",
    "max_depth = [None]\n",
    "# Minimum number of samples required to split a node\n",
    "#min_samples_split2 = [int(x) for x in np.linspace(start = 5, stop = 20, num = 5)]\n",
    "# Minimum number of samples required at each leaf node\n",
    "min_samples_leaf = [int(x) for x in np.linspace(start = 5, stop = 20, num = 5)]\n",
    "# Use out-of-bag samples to estimate the generalization score. \n",
    "oob_score = [True]"
   ]
  },
  {
   "cell_type": "code",
   "execution_count": 15,
   "id": "fc17e7bc",
   "metadata": {},
   "outputs": [],
   "source": [
    "# Creat the param grid\n",
    "param_grid = {'n_estimators': n_estimators,\n",
    "              #'criterion': criterion,\n",
    "              #'max_features': max_features,\n",
    "              #'max_depth': max_depth,\n",
    "              #'min_samples_split': min_samples_split,\n",
    "              'min_samples_leaf': min_samples_leaf,\n",
    "             # 'oob_score': oob_score\n",
    "               }\n",
    "# Define model type\n",
    "rfr_Model = RandomForestRegressor(oob_score = [True])"
   ]
  },
  {
   "cell_type": "code",
   "execution_count": 16,
   "id": "4e1d802c",
   "metadata": {},
   "outputs": [
    {
     "name": "stdout",
     "output_type": "stream",
     "text": [
      "Fitting 5 folds for each of 50 candidates, totalling 250 fits\n"
     ]
    },
    {
     "data": {
      "text/plain": [
       "GridSearchCV(cv=5, estimator=RandomForestRegressor(oob_score=[True]), n_jobs=3,\n",
       "             param_grid={'min_samples_leaf': [5, 8, 12, 16, 20],\n",
       "                         'n_estimators': [100, 144, 188, 233, 277, 322, 366,\n",
       "                                          411, 455, 500]},\n",
       "             return_train_score=True, verbose=2)"
      ]
     },
     "execution_count": 16,
     "metadata": {},
     "output_type": "execute_result"
    }
   ],
   "source": [
    "from sklearn.model_selection import GridSearchCV\n",
    "\n",
    "\n",
    "rfr_Grid = GridSearchCV(estimator = rfr_Model, \n",
    "                       param_grid = param_grid, \n",
    "                       cv = 5, \n",
    "                       verbose=2, \n",
    "                       n_jobs = 3,\n",
    "                       return_train_score = True\n",
    "                       )\n",
    "\n",
    "\n",
    "rfr_Grid.fit(X_all_train, y_all_train)"
   ]
  },
  {
   "cell_type": "code",
   "execution_count": 17,
   "id": "4c1c95d4",
   "metadata": {},
   "outputs": [
    {
     "name": "stdout",
     "output_type": "stream",
     "text": [
      "{'min_samples_leaf': 5, 'n_estimators': 366}\n",
      "Train Accuracy - : 0.973\n",
      "Test Accuracy - : 0.958\n"
     ]
    }
   ],
   "source": [
    "# Optimized method \n",
    "print(rfr_Grid.best_params_)\n",
    "print (f'Train Accuracy - : {rfr_Grid.score(X_all_train,y_all_train):.3f}')\n",
    "print (f'Test Accuracy - : {rfr_Grid.score(X_all_test,y_all_test):.3f}')"
   ]
  },
  {
   "cell_type": "code",
   "execution_count": 191,
   "id": "8aecd72e",
   "metadata": {},
   "outputs": [
    {
     "data": {
      "text/plain": [
       "['Direct_CCSprediction_final.joblib']"
      ]
     },
     "execution_count": 191,
     "metadata": {},
     "output_type": "execute_result"
    }
   ],
   "source": [
    "# Save model\n",
    "import joblib\n",
    "filename = 'Direct_CCSprediction_final.joblib'\n",
    "joblib.dump(rfr_Grid, filename)"
   ]
  },
  {
   "cell_type": "code",
   "execution_count": 192,
   "id": "4441c7ae",
   "metadata": {},
   "outputs": [
    {
     "data": {
      "text/plain": [
       "['summary_DirectGridR.joblib']"
      ]
     },
     "execution_count": 192,
     "metadata": {},
     "output_type": "execute_result"
    }
   ],
   "source": [
    "#save train test data set\n",
    "\n",
    "output = {}\n",
    "\n",
    "output['X_train_shape'] = np.shape(X_all_train)\n",
    "output['X_test_shape'] = np.shape(X_all_test)\n",
    "output['y_train_shape'] = np.shape(y_all_train) \n",
    "output['y_test_shape'] = np.shape(y_all_test)\n",
    "output['X_test'] = X_all_test\n",
    "output['y_test'] = y_all_test\n",
    "output['X_train'] = X_all_test\n",
    "\n",
    "filename = 'summary_DirectGridR.joblib'\n",
    "joblib.dump(output, filename)"
   ]
  },
  {
   "cell_type": "code",
   "execution_count": 25,
   "id": "6dc7d09b",
   "metadata": {},
   "outputs": [
    {
     "name": "stdout",
     "output_type": "stream",
     "text": [
      "2708\n",
      "(2665, 1024)\n"
     ]
    }
   ],
   "source": [
    "testData = df_all[df_all.FPs.isin(X_all_test)]\n",
    "print(testData.shape[0])\n",
    "print(output['X_test_shape'])"
   ]
  },
  {
   "cell_type": "code",
   "execution_count": 92,
   "id": "8453c5d5",
   "metadata": {},
   "outputs": [
    {
     "name": "stdout",
     "output_type": "stream",
     "text": [
      "2688\n",
      "(2665, 1024)\n"
     ]
    }
   ],
   "source": [
    "testData = df_all[(df_all.FPs.isin(X_all_test)) & df_all.CCS.isin(y_all_test)]\n",
    "print(testData.shape[0])\n",
    "print(output['X_test_shape'])"
   ]
  },
  {
   "cell_type": "code",
   "execution_count": 118,
   "id": "37afac25",
   "metadata": {},
   "outputs": [],
   "source": [
    "testData.to_csv('Testset_all.csv',index=False)"
   ]
  },
  {
   "cell_type": "markdown",
   "id": "f06866a7",
   "metadata": {},
   "source": [
    "# GridSearch CV"
   ]
  },
  {
   "cell_type": "code",
   "execution_count": 94,
   "id": "441dbde5",
   "metadata": {},
   "outputs": [],
   "source": [
    "# Plot grid results\n",
    "import matplotlib.pyplot as plt\n",
    "def plot_search_results(grid):\n",
    "    \"\"\"\n",
    "    Params: \n",
    "        grid: A trained GridSearchCV object.\n",
    "    \"\"\"\n",
    "    ## Results from grid search\n",
    "    results = grid.cv_results_\n",
    "    means_test = results['mean_test_score']\n",
    "    stds_test = results['std_test_score']\n",
    "    means_train = results['mean_train_score']\n",
    "    stds_train = results['std_train_score']\n",
    "\n",
    "    ## Getting indexes of values per hyper-parameter\n",
    "    masks=[]\n",
    "    masks_names= list(grid.best_params_.keys())\n",
    "    for p_k, p_v in grid.best_params_.items():\n",
    "        masks.append(list(results['param_'+p_k].data==p_v))\n",
    "\n",
    "    params=grid.param_grid\n",
    "\n",
    "    ## Ploting results\n",
    "    fig, ax = plt.subplots(1,len(params),sharex='none', sharey='all',figsize=(20,5))\n",
    "    #fig.suptitle('Score per parameter')\n",
    "    fig.text(0.04, 0.5, 'MEAN SCORE', va='center', rotation='vertical')\n",
    "    pram_preformace_in_best = {}\n",
    "    for i, p in enumerate(masks_names):\n",
    "        m = np.stack(masks[:i] + masks[i+1:])\n",
    "        pram_preformace_in_best\n",
    "        best_parms_mask = m.all(axis=0)\n",
    "        best_index = np.where(best_parms_mask)[0]\n",
    "        x = np.array(params[p])\n",
    "        y_1 = np.array(means_test[best_index])\n",
    "        e_1 = np.array(stds_test[best_index])\n",
    "        y_2 = np.array(means_train[best_index])\n",
    "        e_2 = np.array(stds_train[best_index])\n",
    "        ax[i].errorbar(x, y_1, e_1, linestyle='-', marker='o', label='test')\n",
    "        ax[i].errorbar(x, y_2, e_2, linestyle='-', marker='^',label='train' )\n",
    "        ax[i].set_xlabel(p.upper())\n",
    "\n",
    "    plt.legend()\n",
    "    plt.show()"
   ]
  },
  {
   "cell_type": "code",
   "execution_count": 95,
   "id": "1a805ce8",
   "metadata": {},
   "outputs": [
    {
     "data": {
      "image/png": "[encoded data removed]",
      "text/plain": [
       "<Figure size 1440x360 with 2 Axes>"
      ]
     },
     "metadata": {
      "needs_background": "light"
     },
     "output_type": "display_data"
    }
   ],
   "source": [
    "plot_search_results(rfr_Grid)"
   ]
  },
  {
   "cell_type": "code",
   "execution_count": 34,
   "id": "1fb123c8",
   "metadata": {},
   "outputs": [],
   "source": [
    "from sklearn.tree import export_graphviz\n",
    "\n",
    "def plotTrees(Grid, label):\n",
    "    Grid_opt = Grid.best_estimator_\n",
    "    for index in range(0, 5):\n",
    "        export_graphviz(Grid_opt[index], out_file=label+str(index)+'.dot', \n",
    "                #feature_names = fn,\n",
    "                rounded = True, proportion = False, \n",
    "                precision = 2, filled = True)"
   ]
  },
  {
   "cell_type": "code",
   "execution_count": 36,
   "id": "cab57982",
   "metadata": {},
   "outputs": [],
   "source": [
    "plotTrees(rfr_Grid, 'DirectPred')"
   ]
  },
  {
   "cell_type": "code",
   "execution_count": 37,
   "id": "b718c27c",
   "metadata": {},
   "outputs": [],
   "source": [
    "# Calculate feature importances\n",
    "def plotFI(Grid, label):\n",
    "    Grid_opt = Grid.best_estimator_\n",
    "    importances = Grid_opt.feature_importances_\n",
    "    # investigate the top 5 importance features\n",
    "    ind = np.argpartition(importances,-5)[-5:] \n",
    "    print(ind)\n",
    "    print(importances[ind])\n",
    "    plt.plot(importances)\n",
    "    #plt.ylim([0, importances])\n",
    "    plt.title('Feaure_importances 0f '+ label)\n",
    "    plt.xlabel('Features_FPs_1024bits')\n",
    "    plt.ylabel('Feature_importances')\n",
    "    plt.savefig(label+'_FeatureImportances.png',bbox_inches='tight',dpi = 100)"
   ]
  },
  {
   "cell_type": "code",
   "execution_count": 39,
   "id": "e68e5181",
   "metadata": {
    "scrolled": true
   },
   "outputs": [
    {
     "name": "stdout",
     "output_type": "stream",
     "text": [
      "[927 520 510 161 922]\n",
      "[0.0297374  0.06662259 0.12375715 0.18472189 0.27889446]\n"
     ]
    },
    {
     "data": {
      "image/png": "[encoded data removed]",
      "text/plain": [
       "<Figure size 432x288 with 1 Axes>"
      ]
     },
     "metadata": {
      "needs_background": "light"
     },
     "output_type": "display_data"
    }
   ],
   "source": [
    "# Direct CCS prediction model feature importances\n",
    "plotFI(rfr_Grid, 'DirectPred')"
   ]
  },
  {
   "cell_type": "code",
   "execution_count": 107,
   "id": "9ca69b98",
   "metadata": {},
   "outputs": [],
   "source": [
    "from rdkit.Chem import Draw\n",
    "from rdkit import Chem\n",
    "# get feature examples\n",
    "def get_svgs(mols,ind):\n",
    "    rdkbi = {}\n",
    "    rdkfp = Chem.RDKFingerprint(mols, 2, fpSize = 1024, bitInfo=rdkbi)\n",
    "    svg = Draw.DrawRDKitBit(mols, ind, rdkbi, useSVG=True)\n",
    "    return(svg)"
   ]
  },
  {
   "cell_type": "code",
   "execution_count": 108,
   "id": "f6e40247",
   "metadata": {},
   "outputs": [],
   "source": [
    "#for i in ind:\n",
    "import random\n",
    "def random_indices(feature):\n",
    "    indices = []\n",
    "    while len(indices) <6:\n",
    "        j = random.randint(0,13324)\n",
    "        if df_all['FPs'][j][feature] == 1:\n",
    "            indices.append(j)\n",
    "    return indices"
   ]
  },
  {
   "cell_type": "code",
   "execution_count": 110,
   "id": "3c08b54d",
   "metadata": {},
   "outputs": [
    {
     "data": {
      "image/svg+xml": [
       "<svg baseProfile=\"full\" height=\"150px\" version=\"1.1\" viewBox=\"0 0 150 150\" width=\"150px\" xml:space=\"preserve\" xmlns=\"http://www.w3.org/2000/svg\" xmlns:rdkit=\"http://www.rdkit.org/xml\" xmlns:xlink=\"http://www.w3.org/1999/xlink\">\n",
       "<!-- END OF HEADER -->\n",
       "<rect height=\"150\" style=\"opacity:1.0;fill:#FFFFFF;stroke:none\" width=\"150\" x=\"0\" y=\"0\"> </rect>\n",
       "<path class=\"bond-0\" d=\"M 6.81818,53.9488 L 42.5462,37.8035\" style=\"fill:none;fill-rule:evenodd;stroke:#000000;stroke-width:2.0px;stroke-linecap:butt;stroke-linejoin:miter;stroke-opacity:1\"/>\n",
       "<path class=\"bond-1\" d=\"M 42.5462,37.8035 L 55.4308,47.0559\" style=\"fill:none;fill-rule:evenodd;stroke:#000000;stroke-width:2.0px;stroke-linecap:butt;stroke-linejoin:miter;stroke-opacity:1\"/>\n",
       "<path class=\"bond-1\" d=\"M 55.4308,47.0559 L 68.3154,56.3083\" style=\"fill:none;fill-rule:evenodd;stroke:#FF0000;stroke-width:2.0px;stroke-linecap:butt;stroke-linejoin:miter;stroke-opacity:1\"/>\n",
       "<path class=\"bond-2\" d=\"M 80.4695,57.926 L 95.295,51.2264\" style=\"fill:none;fill-rule:evenodd;stroke:#FF0000;stroke-width:2.0px;stroke-linecap:butt;stroke-linejoin:miter;stroke-opacity:1\"/>\n",
       "<path class=\"bond-2\" d=\"M 95.295,51.2264 L 110.12,44.5269\" style=\"fill:none;fill-rule:evenodd;stroke:#000000;stroke-width:2.0px;stroke-linecap:butt;stroke-linejoin:miter;stroke-opacity:1\"/>\n",
       "<path class=\"bond-3\" d=\"M 110.12,44.5269 L 141.967,67.3956\" style=\"fill:none;fill-rule:evenodd;stroke:#000000;stroke-width:2.0px;stroke-linecap:butt;stroke-linejoin:miter;stroke-opacity:1\"/>\n",
       "<path class=\"bond-4\" d=\"M 140.541,73.8019 L 142.102,73.9571\" style=\"fill:none;fill-rule:evenodd;stroke:#000000;stroke-width:1.0px;stroke-linecap:butt;stroke-linejoin:miter;stroke-opacity:1\"/>\n",
       "<path class=\"bond-4\" d=\"M 139.116,80.2081 L 142.237,80.5187\" style=\"fill:none;fill-rule:evenodd;stroke:#000000;stroke-width:1.0px;stroke-linecap:butt;stroke-linejoin:miter;stroke-opacity:1\"/>\n",
       "<path class=\"bond-4\" d=\"M 137.69,86.6144 L 142.372,87.0802\" style=\"fill:none;fill-rule:evenodd;stroke:#FF0000;stroke-width:1.0px;stroke-linecap:butt;stroke-linejoin:miter;stroke-opacity:1\"/>\n",
       "<path class=\"bond-4\" d=\"M 136.265,93.0206 L 142.507,93.6417\" style=\"fill:none;fill-rule:evenodd;stroke:#FF0000;stroke-width:1.0px;stroke-linecap:butt;stroke-linejoin:miter;stroke-opacity:1\"/>\n",
       "<path class=\"bond-4\" d=\"M 134.84,99.4269 L 142.642,100.203\" style=\"fill:none;fill-rule:evenodd;stroke:#FF0000;stroke-width:1.0px;stroke-linecap:butt;stroke-linejoin:miter;stroke-opacity:1\"/>\n",
       "<path class=\"atom-2\" d=\"M 69.2956 60.7036 Q 69.2956 58.0375, 70.6129 56.5477 Q 71.9303 55.0578, 74.3924 55.0578 Q 76.8546 55.0578, 78.172 56.5477 Q 79.4893 58.0375, 79.4893 60.7036 Q 79.4893 63.401, 78.1563 64.9379 Q 76.8233 66.4591, 74.3924 66.4591 Q 71.946 66.4591, 70.6129 64.9379 Q 69.2956 63.4167, 69.2956 60.7036 M 74.3924 65.2045 Q 76.0862 65.2045, 76.9958 64.0753 Q 77.921 62.9305, 77.921 60.7036 Q 77.921 58.5237, 76.9958 57.4259 Q 76.0862 56.3124, 74.3924 56.3124 Q 72.6987 56.3124, 71.7734 57.4102 Q 70.8638 58.508, 70.8638 60.7036 Q 70.8638 62.9462, 71.7734 64.0753 Q 72.6987 65.2045, 74.3924 65.2045 \" fill=\"#FF0000\"/>\n",
       "<path class=\"atom-5\" d=\"M 132.988 106.441 Q 132.988 103.775, 134.305 102.285 Q 135.623 100.795, 138.085 100.795 Q 140.547 100.795, 141.864 102.285 Q 143.182 103.775, 143.182 106.441 Q 143.182 109.138, 141.849 110.675 Q 140.516 112.197, 138.085 112.197 Q 135.638 112.197, 134.305 110.675 Q 132.988 109.154, 132.988 106.441 M 138.085 110.942 Q 139.779 110.942, 140.688 109.813 Q 141.614 108.668, 141.614 106.441 Q 141.614 104.261, 140.688 103.163 Q 139.779 102.05, 138.085 102.05 Q 136.391 102.05, 135.466 103.148 Q 134.556 104.245, 134.556 106.441 Q 134.556 108.684, 135.466 109.813 Q 136.391 110.942, 138.085 110.942 \" fill=\"#FF0000\"/>\n",
       "</svg>"
      ],
      "text/plain": [
       "<IPython.core.display.SVG object>"
      ]
     },
     "metadata": {},
     "output_type": "display_data"
    }
   ],
   "source": [
    "from IPython.core.display import display\n",
    "indices922 = random_indices(922)\n",
    "random_mols = random.choice(indices922)\n",
    "mols = df_all['Molecules'] [random_mols]\n",
    "svg = get_svgs(mols, 922)\n",
    "display(svg)"
   ]
  }
 ],
 "metadata": {
  "kernelspec": {
   "display_name": "Python 3 (ipykernel)",
   "language": "python",
   "name": "python3"
  },
  "language_info": {
   "codemirror_mode": {
    "name": "ipython",
    "version": 3
   },
   "file_extension": ".py",
   "mimetype": "text/x-python",
   "name": "python",
   "nbconvert_exporter": "python",
   "pygments_lexer": "ipython3",
   "version": "3.7.13"
  }
 },
 "nbformat": 4,
 "nbformat_minor": 5
}
